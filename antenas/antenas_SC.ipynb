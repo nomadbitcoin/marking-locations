{
 "cells": [
  {
   "cell_type": "markdown",
   "metadata": {},
   "source": [
    "## Pega as antenas de Santa Catarina\n",
    "<i>font:</i> http://www.telecocare.com.br/telebrasil/erbs/"
   ]
  },
  {
   "cell_type": "code",
   "execution_count": 1,
   "metadata": {},
   "outputs": [],
   "source": [
    "from selenium import webdriver\n",
    "import pymysql, warnings\n",
    "import bs4"
   ]
  },
  {
   "cell_type": "code",
   "execution_count": 2,
   "metadata": {},
   "outputs": [],
   "source": [
    "driver = webdriver.Chrome(executable_path='./webdriver/chromedriver')"
   ]
  },
  {
   "cell_type": "code",
   "execution_count": 3,
   "metadata": {},
   "outputs": [],
   "source": [
    "driver.get('http://www.telecocare.com.br/telebrasil/erbs/')"
   ]
  },
  {
   "cell_type": "code",
   "execution_count": 4,
   "metadata": {},
   "outputs": [],
   "source": [
    "htmlPage = bs4.BeautifulSoup(driver.page_source)"
   ]
  },
  {
   "cell_type": "code",
   "execution_count": 5,
   "metadata": {
    "scrolled": false
   },
   "outputs": [],
   "source": [
    "scripts = htmlPage.find_all('script',{'type':'text/javascript'})"
   ]
  },
  {
   "cell_type": "code",
   "execution_count": 6,
   "metadata": {},
   "outputs": [],
   "source": [
    "content = []\n",
    "for string in scripts[2].text.split('\\t'):\n",
    "    if '<p>' in string or 'LatLng' in string:\n",
    "        content.append(string)"
   ]
  },
  {
   "cell_type": "code",
   "execution_count": 7,
   "metadata": {},
   "outputs": [],
   "source": [
    "def cleanContent(content, type_c):\n",
    "    if type_c == 'lat_lng':\n",
    "        coordinates = content[content.find('(')+1:content.find(')')] \n",
    "        coordinates = coordinates.replace(' ','')\n",
    "        lat, lng = coordinates.split(',')\n",
    "        return lat, lng\n",
    "    \n",
    "    elif type_c == 'operator':\n",
    "        operator = content[content.find('/b')+3:content.find('</p>')]\n",
    "        return operator\n",
    "    \n",
    "    elif type_c == 'address':\n",
    "        address = content[content.find('/b')+3:content.find('</p>')]\n",
    "        return address\n",
    "    \n",
    "    elif type_c == 'citie':\n",
    "        citie = content[content.find('/b')+3:content.find('</p>')]\n",
    "        return citie"
   ]
  },
  {
   "cell_type": "code",
   "execution_count": 8,
   "metadata": {},
   "outputs": [],
   "source": [
    "list_antennas = []\n",
    "for antenna in range(1, len(content), 7):\n",
    "    antenas = {'lat': '', 'lng': '', 'address': '', 'operator': '', 'citie': ''}\n",
    "    \n",
    "    # pega os dados brutos sobre cada antena\n",
    "    lat_lng = content[antenna]\n",
    "    operadora = content[antenna+1]\n",
    "    endereco = content[antenna+2]\n",
    "    municipio = content[antenna+4]\n",
    "    \n",
    "    #trata os dados de coordenadas\n",
    "    lat, lng = cleanContent(lat_lng, 'lat_lng')\n",
    "    \n",
    "    #trata os dados da operadora\n",
    "    operadora = cleanContent(operadora, 'operator')\n",
    "    \n",
    "    #trata os dados de endereco\n",
    "    endereco = cleanContent(endereco, 'address')\n",
    "    \n",
    "    #trata os dados do municipio\n",
    "    municipio = cleanContent(municipio, 'citie')\n",
    "    \n",
    "    antenas['lat'], antenas['lng'], antenas['operator'], antenas['address'], antenas['citie'] = lat, lng, operadora, endereco, municipio\n",
    "    \n",
    "    list_antennas.append(antenas)"
   ]
  },
  {
   "cell_type": "code",
   "execution_count": 163,
   "metadata": {},
   "outputs": [],
   "source": [
    "class Database:\n",
    "    def connect(self):\n",
    "        trying = True\n",
    "        while trying:\n",
    "            try:\n",
    "                self.db = pymysql.connect(host='instagram-bot.ccmmdvzb8vos.us-west-2.rds.amazonaws.com', user='admin', passwd='54203538', db='antenas', autocommit=True)\n",
    "                trying = False\n",
    "                return self.db\n",
    "            except BaseException as error:\n",
    "                if str(error).startswith('(2003,'):\n",
    "                    trying = True\n",
    "                else:\n",
    "                    print('Error ocurred in: DB - connect --> {}'.format(error))\n",
    "    \n",
    "    def startCursor(self):\n",
    "        self.cursor = self.db.cursor()\n",
    "        warnings.simplefilter('ignore')\n",
    "        return self.cursor\n",
    "    \n",
    "    def commitChanges(self):\n",
    "        self.db.commit()\n",
    "\n",
    "    def closeConnection(self):\n",
    "        self.cursor.close()\n",
    "        \n",
    "    def saveAntenna(self, list_antennas):\n",
    "        #recebe um dicionario com dados sobre o perfil\n",
    "        for antenna in list_antennas:\n",
    "            try:\n",
    "                self.connect()\n",
    "                self.startCursor()\n",
    "                query =  'insert into antenas(address, citie, lat, lng, operator) values(%s,%s,%s,%s,%s)'\n",
    "                self.cursor.execute(query, (antenna['address'], antenna['citie'], antenna['lat'], antenna['lng'], antenna['operator']))\n",
    "                self.cursor.close()\n",
    "            except BaseException as error:\n",
    "                print('Error ocurred in: DB - saveAntenna --> type: {}, error: {}'.format(type(error), error))"
   ]
  },
  {
   "cell_type": "code",
   "execution_count": 164,
   "metadata": {},
   "outputs": [],
   "source": [
    "database = Database()"
   ]
  },
  {
   "cell_type": "code",
   "execution_count": 40,
   "metadata": {},
   "outputs": [],
   "source": [
    "database.saveAntenna(list_antennas)"
   ]
  },
  {
   "cell_type": "code",
   "execution_count": 23,
   "metadata": {},
   "outputs": [],
   "source": [
    "import pickle"
   ]
  },
  {
   "cell_type": "code",
   "execution_count": 36,
   "metadata": {},
   "outputs": [],
   "source": [
    "with open('antenas.data', 'wb') as _file:\n",
    "    pickle.dump(list_antennas, _file)"
   ]
  },
  {
   "cell_type": "code",
   "execution_count": 37,
   "metadata": {},
   "outputs": [],
   "source": [
    "with open('antenas.data', 'rb') as f:\n",
    "    nova = pickle.load(f)"
   ]
  },
  {
   "cell_type": "code",
   "execution_count": null,
   "metadata": {},
   "outputs": [],
   "source": []
  },
  {
   "cell_type": "code",
   "execution_count": null,
   "metadata": {},
   "outputs": [],
   "source": []
  }
 ],
 "metadata": {
  "kernelspec": {
   "display_name": "Python 3",
   "language": "python",
   "name": "python3"
  },
  "language_info": {
   "codemirror_mode": {
    "name": "ipython",
    "version": 3
   },
   "file_extension": ".py",
   "mimetype": "text/x-python",
   "name": "python",
   "nbconvert_exporter": "python",
   "pygments_lexer": "ipython3",
   "version": "3.5.3"
  }
 },
 "nbformat": 4,
 "nbformat_minor": 2
}
