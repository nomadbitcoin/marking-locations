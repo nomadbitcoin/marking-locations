{
 "cells": [
  {
   "cell_type": "markdown",
   "metadata": {},
   "source": [
    "## Encontrando a Localizacao de Empresas Desenvolvedoras de App na Play Store"
   ]
  },
  {
   "cell_type": "code",
   "execution_count": 239,
   "metadata": {},
   "outputs": [],
   "source": [
    "import requests\n",
    "import bs4\n",
    "import time\n",
    "import folium"
   ]
  },
  {
   "cell_type": "code",
   "execution_count": 33,
   "metadata": {},
   "outputs": [],
   "source": [
    "main_url = 'https://play.google.com'"
   ]
  },
  {
   "cell_type": "code",
   "execution_count": 2,
   "metadata": {},
   "outputs": [],
   "source": [
    "# PAGINA PRINCIPAL\n",
    "\n",
    "url = 'https://play.google.com/store/apps/category/GAME_ROLE_PLAYING?hl=pt_BR'\n",
    "req = requests.get(url)\n",
    "\n",
    "htmlPage = bs4.BeautifulSoup(req.content, features='html.parser')\n",
    "\n",
    "apps_subcategories = htmlPage.find('div',{'class':'N4FjMb'})\n",
    "links = apps_subcategories.find_all('a')\n",
    "for link in links:\n",
    "    if link.text == 'Veja mais':\n",
    "        print(link.get('href'))"
   ]
  },
  {
   "cell_type": "code",
   "execution_count": 189,
   "metadata": {},
   "outputs": [],
   "source": [
    "# CATEGORIA SELECIONADA \n",
    "url = 'https://play.google.com/store/apps/collection/cluster?clp=ugENCgtHQU1FX0FDVElPTg%3D%3D:S:ANO1ljL-O58&gsr=ChC6AQ0KC0dBTUVfQUNUSU9O:S:ANO1ljKm9l0'\n",
    "req = requests.get(url)\n",
    "htmlPage = bs4.BeautifulSoup(req.content, features='html.parser')\n",
    "\n",
    "links_app = [main_url + app.get('href') for app in htmlPage.find_all('a',{'class':'poRVub'})]"
   ]
  },
  {
   "cell_type": "code",
   "execution_count": 190,
   "metadata": {
    "collapsed": true
   },
   "outputs": [
    {
     "name": "stdout",
     "output_type": "stream",
     "text": [
      "data from 1 apps saved\n",
      "data from 2 apps saved\n",
      "data from 3 apps saved\n",
      "data from 4 apps saved\n",
      "data from 5 apps saved\n",
      "data from 6 apps saved\n",
      "data from 7 apps saved\n",
      "data from 8 apps saved\n",
      "data from 9 apps saved\n",
      "data from 10 apps saved\n",
      "data from 11 apps saved\n",
      "data from 12 apps saved\n",
      "data from 13 apps saved\n",
      "data from 14 apps saved\n",
      "data from 15 apps saved\n",
      "data from 16 apps saved\n",
      "data from 17 apps saved\n",
      "data from 18 apps saved\n",
      "data from 19 apps saved\n",
      "<class 'ValueError'>\n",
      "not enough values to unpack (expected 3, got 2)\n",
      "data from 20 apps saved\n",
      "<class 'AttributeError'>\n",
      "'NoneType' object has no attribute 'text'\n",
      "data from 21 apps saved\n"
     ]
    }
   ],
   "source": [
    "# PEGA OS DADOS DOS APLICATIVOS\n",
    "applications_data = []\n",
    "total = 0\n",
    "for app in links_app:\n",
    "    try:\n",
    "        req = requests.get(app)\n",
    "        if req.status_code == 200:\n",
    "            htmlPage = bs4.BeautifulSoup(req.content, features='html.parser')\n",
    "            time.sleep(3)\n",
    "\n",
    "            app_info = {'name': '', 'dev_location': '','website': '', 'email': '', 'privacy_policy': '', 'rating': '', 'developer_company': ''}\n",
    "\n",
    "            # nome do aplicativo\n",
    "            name = htmlPage.find('h1').text\n",
    "#             print('name saved')\n",
    "\n",
    "            #pega os dados de desenvolvedor\n",
    "            dev_area = htmlPage.find_all('div',{'class':'hAyfc'})[-1].find('span',{'class':'htlgb'})\n",
    "            website, email, privacy_policy = [link.get('href') for link in dev_area.find_all('a')]\n",
    "            dev_location = dev_area.find_all('div')[-1].text\n",
    "#             print('dev saved')\n",
    "\n",
    "            # pega a classificacao de idade\n",
    "            rating = htmlPage.find_all('div',{'class':'hAyfc'})[5].find_all('span')[1].find('div').text\n",
    "#             print('rating saved')\n",
    "\n",
    "            # pega a empresa desenvolvedora \n",
    "            developer_company = htmlPage.find_all('div',{'class':'hAyfc'})[-2].find_all('span',{'class':'htlgb'})[-1].text\n",
    "#             print('dev company saved')\n",
    "\n",
    "            app_info['name'], app_info['dev_location'] ,app_info['website'], app_info['email'], app_info['privacy_policy'], app_info['rating'], app_info['developer_company'] = name, dev_location,website, email, privacy_policy, rating, developer_company \n",
    "            applications_data.append(app_info)\n",
    "\n",
    "    except Exception as error:\n",
    "        print(type(error))\n",
    "        print(error)\n",
    "    \n",
    "    total += 1\n",
    "    print('data from {} apps saved'.format(total))\n",
    "    time.sleep(3)"
   ]
  },
  {
   "cell_type": "code",
   "execution_count": 229,
   "metadata": {},
   "outputs": [],
   "source": [
    "# CORRIGE OS ENDERECOS QUE ESTAO SEPARADOS EM LINHAS\n",
    "for address in range(len(applications_data)):\n",
    "    new_address = ' '.join(applications_data[address]['dev_location'].split('\\n'))\n",
    "    applications_data[address]['dev_location'] = {}\n",
    "    applications_data[address]['dev_location']['address'] = new_address"
   ]
  },
  {
   "cell_type": "code",
   "execution_count": 223,
   "metadata": {},
   "outputs": [],
   "source": [
    "# ABRE UM NAVEGADOR EM HEADLESS PARA FAZER AS PESQUISAS\n",
    "from selenium import webdriver\n",
    "from selenium.webdriver.chrome.options import Options as ChromeOptions\n",
    "\n",
    "#instance headless\n",
    "options = webdriver.ChromeOptions()\n",
    "options.add_argument('headless')\n",
    "options.add_argument('--window-size-1920x1080')\n",
    "\n",
    "driver = webdriver.Chrome(options=options, executable_path=\"./webdriver/chromedriver\")"
   ]
  },
  {
   "cell_type": "code",
   "execution_count": 231,
   "metadata": {},
   "outputs": [],
   "source": [
    "# FAZ UM BACKUP DOS DADOS COLETADOS\n",
    "applications_saved = list(applications_data)"
   ]
  },
  {
   "cell_type": "code",
   "execution_count": 237,
   "metadata": {},
   "outputs": [],
   "source": [
    "for application in range(len(applications_data)):\n",
    "    name = applications_data[application]['dev_location']['address']\n",
    "    \n",
    "    # TRANSFORMA OS NOMES DOS LUGARES EM UMA STRING VALIDA PARA O GOOGLE MAPS\n",
    "    addres_search = 'http://maps.google.com/?q=' + name.replace(' ','+')\n",
    "    driver.get(addres_search)\n",
    "    \n",
    "    # ESPERA O GOOGLE MAPS CARREGAR O MAPA E PEGA A URL ATUAL QUE ESTARA COM OS DADOS DE GEOLOCALIZACAO\n",
    "    time.sleep(6)\n",
    "    url_atual = driver.current_url.split('/') #separa os elementos da url\n",
    "    \n",
    "    #latitude e longitude estarao na posicao 7 da lista\n",
    "    if url_atual[6].startswith('@'): \n",
    "        url_atual = url_atual[6].split(',')[:2] #separa latitude e longitude\n",
    "        url_atual[0] = url_atual[0].replace('@','') #tira o @ do inicio da latitude\n",
    "        lat, long = url_atual #desmembra a lista e salva latitude e longitude no dict das localizacoes\n",
    "        applications_data[application]['dev_location']['lat'], applications_data[application]['dev_location']['long'] = lat, long\n",
    "    else:\n",
    "        #se nao encontrar ira remover da lista\n",
    "        applications_data.pop(application)"
   ]
  },
  {
   "cell_type": "code",
   "execution_count": 260,
   "metadata": {},
   "outputs": [],
   "source": [
    "# CRIA UM MAPA\n",
    "dev_companys = folium.Map()\n",
    "\n",
    "# ADICIONA AS LOCALIZACOES\n",
    "for company in applications_data:  \n",
    "    lat, long = float(company['dev_location']['lat']), float(company['dev_location']['long'])\n",
    "    folium.Marker(location=[lat, long], popup=company['name']).add_to(dev_companys)"
   ]
  },
  {
   "cell_type": "code",
   "execution_count": 261,
   "metadata": {},
   "outputs": [
    {
     "data": {
      "text/html": [
       "<div style=\"width:100%;\"><div style=\"position:relative;width:100%;height:0;padding-bottom:60%;\"><iframe src=\"data:text/html;charset=utf-8;base64,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\" style=\"position:absolute;width:100%;height:100%;left:0;top:0;border:none !important;\" allowfullscreen webkitallowfullscreen mozallowfullscreen></iframe></div></div>"
      ],
      "text/plain": [
       "<folium.folium.Map at 0x7f31465381d0>"
      ]
     },
     "execution_count": 261,
     "metadata": {},
     "output_type": "execute_result"
    }
   ],
   "source": [
    "dev_companys"
   ]
  },
  {
   "cell_type": "code",
   "execution_count": null,
   "metadata": {},
   "outputs": [],
   "source": [
    "# SALVA O MAPA HTML\n",
    "dev_companys.save('nearest.html')"
   ]
  }
 ],
 "metadata": {
  "kernelspec": {
   "display_name": "Python 3",
   "language": "python",
   "name": "python3"
  },
  "language_info": {
   "codemirror_mode": {
    "name": "ipython",
    "version": 3
   },
   "file_extension": ".py",
   "mimetype": "text/x-python",
   "name": "python",
   "nbconvert_exporter": "python",
   "pygments_lexer": "ipython3",
   "version": "3.5.3"
  }
 },
 "nbformat": 4,
 "nbformat_minor": 2
}
