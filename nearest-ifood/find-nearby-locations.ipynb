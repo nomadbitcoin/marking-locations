{
 "cells": [
  {
   "cell_type": "markdown",
   "metadata": {},
   "source": [
    "<i>good folium tutorial: https://jtemporal.com/folium/<i> \n",
    "### Procurar os restaurantes (iFood) mais próximos"
   ]
  },
  {
   "cell_type": "code",
   "execution_count": 2,
   "metadata": {},
   "outputs": [],
   "source": [
    "import bs4\n",
    "import time\n",
    "import folium"
   ]
  },
  {
   "cell_type": "code",
   "execution_count": 3,
   "metadata": {},
   "outputs": [],
   "source": [
    "from selenium import webdriver\n",
    "from selenium.webdriver.chrome.options import Options as ChromeOptions"
   ]
  },
  {
   "cell_type": "code",
   "execution_count": 8,
   "metadata": {},
   "outputs": [],
   "source": [
    "options = webdriver.ChromeOptions()\n",
    "\n",
    "# SALVA OS COOKIES DO NAVEGADOR COM A LOCALIZACAO QUE SERA CADASTRADA NO BUSCAS DO IFOOD\n",
    "options.add_argument('profile')\n",
    "options.add_argument('user-data-dir=./saved_address')\n",
    "driver = webdriver.Chrome(executable_path='./webdriver/chromedriver')"
   ]
  },
  {
   "cell_type": "code",
   "execution_count": 10,
   "metadata": {},
   "outputs": [],
   "source": [
    "# PEGA O HTML DA PAGINA DE RESTAURANTES PROXIMOS A LOCALIZACAO SALVA\n",
    "driver.get('https://www.ifood.com.br/lista-restaurantes')\n",
    "htmlPage = bs4.BeautifulSoup(driver.page_source, features='html.parser')"
   ]
  },
  {
   "cell_type": "code",
   "execution_count": 11,
   "metadata": {},
   "outputs": [],
   "source": [
    "# PEGA TODOS OS RESTAURANTES\n",
    "restaurantes = htmlPage.find('div',{'class':'restaurants-list__container'}).find_all('a')"
   ]
  },
  {
   "cell_type": "code",
   "execution_count": 19,
   "metadata": {},
   "outputs": [],
   "source": [
    "# SALVA TODOS OS NOMES E SUAS DISTANCIAS\n",
    "locations = {}\n",
    "for restaurante in restaurantes:\n",
    "    name = restaurante.find('span',{'class':'restaurant-name'}).text\n",
    "    locations.setdefault(name, {'distance': restaurante.find('div',{'class':'restaurant-card__info'}).text.split('•')[-1]})"
   ]
  },
  {
   "cell_type": "code",
   "execution_count": 20,
   "metadata": {},
   "outputs": [],
   "source": [
    "# TIRA CARACTERES QUE NAO SAO NUMEROS DA DISTANCIA E CONVERTE DE STRING PARA FLOAT \n",
    "for location in locations.keys():\n",
    "    locations[location]['distance'] = locations[location]['distance'].replace('km', '')\n",
    "    locations[location]['distance'] = locations[location]['distance'].replace(' ', '')\n",
    "    locations[location]['distance'] = locations[location]['distance'].replace(',', '.')\n",
    "    locations[location]['distance'] = float(locations[location]['distance'])"
   ]
  },
  {
   "cell_type": "code",
   "execution_count": 21,
   "metadata": {},
   "outputs": [],
   "source": [
    "# IRA PESQUISAR OS RESTAURANTES NO GOOGLE MAPS E PEGAR SUAS GEOLOCALIZACOES\n",
    "locations_name = list(locations.keys())\n",
    "for name in locations_name:\n",
    "    \n",
    "    # TRANSFORMA OS NOMES DOS LUGARES EM UMA STRING VALIDA PARA O GOOGLE MAPS\n",
    "    addres_search = 'http://maps.google.com/?q=' + name.replace(' ','+') + 'Franco+Da+Rocha'\n",
    "    driver.get(addres_search)\n",
    "    \n",
    "    # ESPERA O GOOGLE MAPS CARREGAR O MAPA E PEGA A URL ATUAL QUE ESTARA COM OS DADOS DE GEOLOCALIZACAO\n",
    "    time.sleep(6)\n",
    "    url_atual = driver.current_url.split('/') #separa os elementos da url\n",
    "    \n",
    "    #latitude e longitude estarao na posicao 7 da lista\n",
    "    if url_atual[6].startswith('@'): \n",
    "        url_atual = url_atual[6].split(',')[:2] #separa latitude e longitude\n",
    "        url_atual[0] = url_atual[0].replace('@','') #tira o @ do inicio da latitude\n",
    "        locations[name]['lat'], locations[name]['long'] = url_atual #desmembra a lista e salva latitude e longitude no dict das localizacoes\n",
    "    else:\n",
    "        #se nao encontrar a localizacao ira remover o restaurante do dicionario \n",
    "        locations.pop(name, None)"
   ]
  },
  {
   "cell_type": "code",
   "execution_count": 77,
   "metadata": {},
   "outputs": [],
   "source": [
    "# CRIA UM MAPA CENTRALIZADO EM FRANCO DA ROCHA(cidade cadastrada no ifood como minha localizacao)\n",
    "loc_in_map = folium.Map(location=[-23.300, -46.715], zoom_start=13)\n",
    "\n",
    "# ADICIONA AS LOCALIZACOES NO MAPA\n",
    "for place in locations:  \n",
    "    lat, long = float(locations[place]['lat']), float(locations[place]['long'])\n",
    "    folium.Marker(location=[lat, long]).add_to(loc_in_map)"
   ]
  },
  {
   "cell_type": "code",
   "execution_count": 78,
   "metadata": {},
   "outputs": [
    {
     "data": {
      "text/plain": [
       "<folium.map.Marker at 0x7f883d4cfa20>"
      ]
     },
     "execution_count": 78,
     "metadata": {},
     "output_type": "execute_result"
    }
   ],
   "source": [
    "# INSERE O ENDERECO REFERENCIA NO MAPA\n",
    "folium.Marker(location=[-23.3189057, -46.7186053], icon = folium.Icon(color='red')).add_to(loc_in_map)"
   ]
  },
  {
   "cell_type": "code",
   "execution_count": 79,
   "metadata": {
    "scrolled": false
   },
   "outputs": [
    {
     "data": {
      "text/html": [
       "<div style=\"width:100%;\"><div style=\"position:relative;width:100%;height:0;padding-bottom:60%;\"><iframe src=\"data:text/html;charset=utf-8;base64,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\" style=\"position:absolute;width:100%;height:100%;left:0;top:0;border:none !important;\" allowfullscreen webkitallowfullscreen mozallowfullscreen></iframe></div></div>"
      ],
      "text/plain": [
       "<folium.folium.Map at 0x7f883d4cff28>"
      ]
     },
     "execution_count": 79,
     "metadata": {},
     "output_type": "execute_result"
    }
   ],
   "source": [
    "loc_in_map"
   ]
  },
  {
   "cell_type": "code",
   "execution_count": 80,
   "metadata": {},
   "outputs": [],
   "source": [
    "# SALVA O MAPA HTML\n",
    "loc_in_map.save('nearest.html')"
   ]
  },
  {
   "cell_type": "code",
   "execution_count": null,
   "metadata": {},
   "outputs": [],
   "source": []
  }
 ],
 "metadata": {
  "kernelspec": {
   "display_name": "Python 3",
   "language": "python",
   "name": "python3"
  },
  "language_info": {
   "codemirror_mode": {
    "name": "ipython",
    "version": 3
   },
   "file_extension": ".py",
   "mimetype": "text/x-python",
   "name": "python",
   "nbconvert_exporter": "python",
   "pygments_lexer": "ipython3",
   "version": "3.5.3"
  }
 },
 "nbformat": 4,
 "nbformat_minor": 2
}
